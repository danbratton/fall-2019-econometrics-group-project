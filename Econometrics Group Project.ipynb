{
 "cells": [
  {
   "cell_type": "markdown",
   "metadata": {},
   "source": [
    "# Importing Data"
   ]
  },
  {
   "cell_type": "code",
   "execution_count": 10,
   "metadata": {},
   "outputs": [
    {
     "data": {
      "text/html": [
       "<table>\n",
       "<thead><tr><th scope=col>country</th><th scope=col>isocode</th><th scope=col>patience</th><th scope=col>risktaking</th><th scope=col>posrecip</th><th scope=col>negrecip</th><th scope=col>altruism</th><th scope=col>trust</th></tr></thead>\n",
       "<tbody>\n",
       "\t<tr><td>Afghanistan </td><td>AFG         </td><td>-0.20136012 </td><td> 0.12076426 </td><td> 0.28964090 </td><td> 0.25471246 </td><td> 0.166455463</td><td> 0.3159644  </td></tr>\n",
       "\t<tr><td>Algeria     </td><td>DZA         </td><td> 0.05981525 </td><td> 0.39153048 </td><td>-0.59825534 </td><td> 0.25490081 </td><td>-0.009968001</td><td>-0.1773706  </td></tr>\n",
       "\t<tr><td>Argentina   </td><td>ARG         </td><td>-0.22930798 </td><td> 0.04150317 </td><td> 0.15967931 </td><td>-0.14045727 </td><td> 0.027346682</td><td>-0.2067333  </td></tr>\n",
       "\t<tr><td>Australia   </td><td>AUS         </td><td> 0.65700376 </td><td> 0.13713655 </td><td> 0.06966002 </td><td> 0.02218975 </td><td> 0.155331448</td><td> 0.2989726  </td></tr>\n",
       "\t<tr><td>Austria     </td><td>AUT         </td><td> 0.60828501 </td><td>-0.06182915 </td><td> 0.16104659 </td><td>-0.05541545 </td><td>-0.035363130</td><td> 0.1546281  </td></tr>\n",
       "\t<tr><td>Bangladesh  </td><td>BGD         </td><td> 0.08113671 </td><td>-0.19806775 </td><td> 0.15436757 </td><td> 0.11328817 </td><td> 0.906463265</td><td>-0.1733653  </td></tr>\n",
       "</tbody>\n",
       "</table>\n"
      ],
      "text/latex": [
       "\\begin{tabular}{r|llllllll}\n",
       " country & isocode & patience & risktaking & posrecip & negrecip & altruism & trust\\\\\n",
       "\\hline\n",
       "\t Afghanistan  & AFG          & -0.20136012  &  0.12076426  &  0.28964090  &  0.25471246  &  0.166455463 &  0.3159644  \\\\\n",
       "\t Algeria      & DZA          &  0.05981525  &  0.39153048  & -0.59825534  &  0.25490081  & -0.009968001 & -0.1773706  \\\\\n",
       "\t Argentina    & ARG          & -0.22930798  &  0.04150317  &  0.15967931  & -0.14045727  &  0.027346682 & -0.2067333  \\\\\n",
       "\t Australia    & AUS          &  0.65700376  &  0.13713655  &  0.06966002  &  0.02218975  &  0.155331448 &  0.2989726  \\\\\n",
       "\t Austria      & AUT          &  0.60828501  & -0.06182915  &  0.16104659  & -0.05541545  & -0.035363130 &  0.1546281  \\\\\n",
       "\t Bangladesh   & BGD          &  0.08113671  & -0.19806775  &  0.15436757  &  0.11328817  &  0.906463265 & -0.1733653  \\\\\n",
       "\\end{tabular}\n"
      ],
      "text/markdown": [
       "\n",
       "| country | isocode | patience | risktaking | posrecip | negrecip | altruism | trust |\n",
       "|---|---|---|---|---|---|---|---|\n",
       "| Afghanistan  | AFG          | -0.20136012  |  0.12076426  |  0.28964090  |  0.25471246  |  0.166455463 |  0.3159644   |\n",
       "| Algeria      | DZA          |  0.05981525  |  0.39153048  | -0.59825534  |  0.25490081  | -0.009968001 | -0.1773706   |\n",
       "| Argentina    | ARG          | -0.22930798  |  0.04150317  |  0.15967931  | -0.14045727  |  0.027346682 | -0.2067333   |\n",
       "| Australia    | AUS          |  0.65700376  |  0.13713655  |  0.06966002  |  0.02218975  |  0.155331448 |  0.2989726   |\n",
       "| Austria      | AUT          |  0.60828501  | -0.06182915  |  0.16104659  | -0.05541545  | -0.035363130 |  0.1546281   |\n",
       "| Bangladesh   | BGD          |  0.08113671  | -0.19806775  |  0.15436757  |  0.11328817  |  0.906463265 | -0.1733653   |\n",
       "\n"
      ],
      "text/plain": [
       "  country     isocode patience    risktaking  posrecip    negrecip   \n",
       "1 Afghanistan AFG     -0.20136012  0.12076426  0.28964090  0.25471246\n",
       "2 Algeria     DZA      0.05981525  0.39153048 -0.59825534  0.25490081\n",
       "3 Argentina   ARG     -0.22930798  0.04150317  0.15967931 -0.14045727\n",
       "4 Australia   AUS      0.65700376  0.13713655  0.06966002  0.02218975\n",
       "5 Austria     AUT      0.60828501 -0.06182915  0.16104659 -0.05541545\n",
       "6 Bangladesh  BGD      0.08113671 -0.19806775  0.15436757  0.11328817\n",
       "  altruism     trust     \n",
       "1  0.166455463  0.3159644\n",
       "2 -0.009968001 -0.1773706\n",
       "3  0.027346682 -0.2067333\n",
       "4  0.155331448  0.2989726\n",
       "5 -0.035363130  0.1546281\n",
       "6  0.906463265 -0.1733653"
      ]
     },
     "metadata": {},
     "output_type": "display_data"
    }
   ],
   "source": [
    "library(haven)\n",
    "country_level_GPS_data = read_dta(\"data/GPS_dataset_country_level/country_v11.dta\")\n",
    "head(country_level_GPS_data)"
   ]
  },
  {
   "cell_type": "markdown",
   "metadata": {},
   "source": [
    "The data is an index among a number of preferences by country."
   ]
  },
  {
   "cell_type": "code",
   "execution_count": 13,
   "metadata": {},
   "outputs": [
    {
     "data": {
      "text/html": [
       "<table>\n",
       "<thead><tr><th scope=col>country</th><th scope=col>isocode</th><th scope=col>ison</th><th scope=col>region</th><th scope=col>language</th><th scope=col>date</th><th scope=col>id_gallup</th><th scope=col>wgt</th><th scope=col>patience</th><th scope=col>risktaking</th><th scope=col>posrecip</th><th scope=col>negrecip</th><th scope=col>altruism</th><th scope=col>trust</th><th scope=col>subj_math_skills</th></tr></thead>\n",
       "<tbody>\n",
       "\t<tr><td>Turkey       </td><td>TUR          </td><td>792          </td><td>Adana        </td><td>Turkish      </td><td>2012-03-07   </td><td>7.1008e+12   </td><td>0.2717829    </td><td> 0.04717605  </td><td>1.020203     </td><td> 0.5943841338</td><td>-0.3671751   </td><td>-0.1399527   </td><td>1.6797541    </td><td>7            </td></tr>\n",
       "\t<tr><td>Turkey       </td><td>TUR          </td><td>792          </td><td>Adana        </td><td>Turkish      </td><td>2012-03-08   </td><td>7.1008e+12   </td><td>0.2717829    </td><td>-0.67569751  </td><td>0.387177     </td><td> 0.6622341275</td><td> 0.0772513   </td><td>-0.1399527   </td><td>0.9504338    </td><td>3            </td></tr>\n",
       "\t<tr><td>Turkey       </td><td>TUR          </td><td>792          </td><td>Adana        </td><td>Turkish      </td><td>2012-03-08   </td><td>7.1008e+12   </td><td>0.4422594    </td><td> 0.31825367  </td><td>1.020203     </td><td>-0.0009299947</td><td> 0.0772513   </td><td>-0.6069670   </td><td>0.5857736    </td><td>7            </td></tr>\n",
       "\t<tr><td>Turkey       </td><td>TUR          </td><td>792          </td><td>Adana        </td><td>Turkish      </td><td>2012-03-07   </td><td>7.1008e+12   </td><td>1.4236710    </td><td> 0.49897206  </td><td>1.271528     </td><td> 0.9598911405</td><td> 0.0772513   </td><td> 0.5605687   </td><td>0.5857736    </td><td>7            </td></tr>\n",
       "\t<tr><td>Turkey       </td><td>TUR          </td><td>792          </td><td>Adana        </td><td>Turkish      </td><td>2012-03-07   </td><td>7.1008e+12   </td><td>0.7053564    </td><td> 0.58933121  </td><td>1.122619     </td><td> 1.3253982067</td><td>-0.3671751   </td><td> 0.3270616   </td><td>1.6797541    </td><td>9            </td></tr>\n",
       "\t<tr><td>Turkey       </td><td>TUR          </td><td>792          </td><td>Adana        </td><td>Turkish      </td><td>2012-03-07   </td><td>7.1008e+12   </td><td>2.1355065    </td><td>-0.58533835  </td><td>1.963511     </td><td> 1.3253982067</td><td>-0.2190329   </td><td> 0.3270616   </td><td>1.6797541    </td><td>7            </td></tr>\n",
       "</tbody>\n",
       "</table>\n"
      ],
      "text/latex": [
       "\\begin{tabular}{r|lllllllllllllll}\n",
       " country & isocode & ison & region & language & date & id\\_gallup & wgt & patience & risktaking & posrecip & negrecip & altruism & trust & subj\\_math\\_skills\\\\\n",
       "\\hline\n",
       "\t Turkey        & TUR           & 792           & Adana         & Turkish       & 2012-03-07    & 7.1008e+12    & 0.2717829     &  0.04717605   & 1.020203      &  0.5943841338 & -0.3671751    & -0.1399527    & 1.6797541     & 7            \\\\\n",
       "\t Turkey        & TUR           & 792           & Adana         & Turkish       & 2012-03-08    & 7.1008e+12    & 0.2717829     & -0.67569751   & 0.387177      &  0.6622341275 &  0.0772513    & -0.1399527    & 0.9504338     & 3            \\\\\n",
       "\t Turkey        & TUR           & 792           & Adana         & Turkish       & 2012-03-08    & 7.1008e+12    & 0.4422594     &  0.31825367   & 1.020203      & -0.0009299947 &  0.0772513    & -0.6069670    & 0.5857736     & 7            \\\\\n",
       "\t Turkey        & TUR           & 792           & Adana         & Turkish       & 2012-03-07    & 7.1008e+12    & 1.4236710     &  0.49897206   & 1.271528      &  0.9598911405 &  0.0772513    &  0.5605687    & 0.5857736     & 7            \\\\\n",
       "\t Turkey        & TUR           & 792           & Adana         & Turkish       & 2012-03-07    & 7.1008e+12    & 0.7053564     &  0.58933121   & 1.122619      &  1.3253982067 & -0.3671751    &  0.3270616    & 1.6797541     & 9            \\\\\n",
       "\t Turkey        & TUR           & 792           & Adana         & Turkish       & 2012-03-07    & 7.1008e+12    & 2.1355065     & -0.58533835   & 1.963511      &  1.3253982067 & -0.2190329    &  0.3270616    & 1.6797541     & 7            \\\\\n",
       "\\end{tabular}\n"
      ],
      "text/markdown": [
       "\n",
       "| country | isocode | ison | region | language | date | id_gallup | wgt | patience | risktaking | posrecip | negrecip | altruism | trust | subj_math_skills |\n",
       "|---|---|---|---|---|---|---|---|---|---|---|---|---|---|---|\n",
       "| Turkey        | TUR           | 792           | Adana         | Turkish       | 2012-03-07    | 7.1008e+12    | 0.2717829     |  0.04717605   | 1.020203      |  0.5943841338 | -0.3671751    | -0.1399527    | 1.6797541     | 7             |\n",
       "| Turkey        | TUR           | 792           | Adana         | Turkish       | 2012-03-08    | 7.1008e+12    | 0.2717829     | -0.67569751   | 0.387177      |  0.6622341275 |  0.0772513    | -0.1399527    | 0.9504338     | 3             |\n",
       "| Turkey        | TUR           | 792           | Adana         | Turkish       | 2012-03-08    | 7.1008e+12    | 0.4422594     |  0.31825367   | 1.020203      | -0.0009299947 |  0.0772513    | -0.6069670    | 0.5857736     | 7             |\n",
       "| Turkey        | TUR           | 792           | Adana         | Turkish       | 2012-03-07    | 7.1008e+12    | 1.4236710     |  0.49897206   | 1.271528      |  0.9598911405 |  0.0772513    |  0.5605687    | 0.5857736     | 7             |\n",
       "| Turkey        | TUR           | 792           | Adana         | Turkish       | 2012-03-07    | 7.1008e+12    | 0.7053564     |  0.58933121   | 1.122619      |  1.3253982067 | -0.3671751    |  0.3270616    | 1.6797541     | 9             |\n",
       "| Turkey        | TUR           | 792           | Adana         | Turkish       | 2012-03-07    | 7.1008e+12    | 2.1355065     | -0.58533835   | 1.963511      |  1.3253982067 | -0.2190329    |  0.3270616    | 1.6797541     | 7             |\n",
       "\n"
      ],
      "text/plain": [
       "  country isocode ison region language date       id_gallup  wgt      \n",
       "1 Turkey  TUR     792  Adana  Turkish  2012-03-07 7.1008e+12 0.2717829\n",
       "2 Turkey  TUR     792  Adana  Turkish  2012-03-08 7.1008e+12 0.2717829\n",
       "3 Turkey  TUR     792  Adana  Turkish  2012-03-08 7.1008e+12 0.4422594\n",
       "4 Turkey  TUR     792  Adana  Turkish  2012-03-07 7.1008e+12 1.4236710\n",
       "5 Turkey  TUR     792  Adana  Turkish  2012-03-07 7.1008e+12 0.7053564\n",
       "6 Turkey  TUR     792  Adana  Turkish  2012-03-07 7.1008e+12 2.1355065\n",
       "  patience    risktaking posrecip      negrecip   altruism   trust    \n",
       "1  0.04717605 1.020203    0.5943841338 -0.3671751 -0.1399527 1.6797541\n",
       "2 -0.67569751 0.387177    0.6622341275  0.0772513 -0.1399527 0.9504338\n",
       "3  0.31825367 1.020203   -0.0009299947  0.0772513 -0.6069670 0.5857736\n",
       "4  0.49897206 1.271528    0.9598911405  0.0772513  0.5605687 0.5857736\n",
       "5  0.58933121 1.122619    1.3253982067 -0.3671751  0.3270616 1.6797541\n",
       "6 -0.58533835 1.963511    1.3253982067 -0.2190329  0.3270616 1.6797541\n",
       "  subj_math_skills\n",
       "1 7               \n",
       "2 3               \n",
       "3 7               \n",
       "4 7               \n",
       "5 9               \n",
       "6 7               "
      ]
     },
     "metadata": {},
     "output_type": "display_data"
    }
   ],
   "source": [
    "individual_level_GPS_data = read_dta(\"data/GPS_dataset_individual_level/individual_v11.dta\")\n",
    "head(individual_level_GPS_data)"
   ]
  },
  {
   "cell_type": "code",
   "execution_count": null,
   "metadata": {},
   "outputs": [],
   "source": []
  }
 ],
 "metadata": {
  "kernelspec": {
   "display_name": "R",
   "language": "R",
   "name": "ir"
  },
  "language_info": {
   "codemirror_mode": "r",
   "file_extension": ".r",
   "mimetype": "text/x-r-source",
   "name": "R",
   "pygments_lexer": "r",
   "version": "3.6.1"
  }
 },
 "nbformat": 4,
 "nbformat_minor": 2
}
