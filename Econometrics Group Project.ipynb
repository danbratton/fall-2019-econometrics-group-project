{
 "cells": [
  {
   "cell_type": "markdown",
   "metadata": {},
   "source": [
    "# Importing Data"
   ]
  },
  {
   "cell_type": "code",
   "execution_count": 5,
   "metadata": {},
   "outputs": [],
   "source": [
    "library(haven)\n",
    "country_level_GPS_data = read_dta(\"GPS_Dataset/GPS_dataset_country_level/country_v11.dta\")"
   ]
  },
  {
   "cell_type": "code",
   "execution_count": 6,
   "metadata": {},
   "outputs": [
    {
     "data": {
      "text/html": [
       "<table>\n",
       "<thead><tr><th scope=col>country</th><th scope=col>isocode</th><th scope=col>patience</th><th scope=col>risktaking</th><th scope=col>posrecip</th><th scope=col>negrecip</th><th scope=col>altruism</th><th scope=col>trust</th></tr></thead>\n",
       "<tbody>\n",
       "\t<tr><td>Afghanistan </td><td>AFG         </td><td>-0.20136012 </td><td> 0.12076426 </td><td> 0.28964090 </td><td> 0.25471246 </td><td> 0.166455463</td><td> 0.3159644  </td></tr>\n",
       "\t<tr><td>Algeria     </td><td>DZA         </td><td> 0.05981525 </td><td> 0.39153048 </td><td>-0.59825534 </td><td> 0.25490081 </td><td>-0.009968001</td><td>-0.1773706  </td></tr>\n",
       "\t<tr><td>Argentina   </td><td>ARG         </td><td>-0.22930798 </td><td> 0.04150317 </td><td> 0.15967931 </td><td>-0.14045727 </td><td> 0.027346682</td><td>-0.2067333  </td></tr>\n",
       "\t<tr><td>Australia   </td><td>AUS         </td><td> 0.65700376 </td><td> 0.13713655 </td><td> 0.06966002 </td><td> 0.02218975 </td><td> 0.155331448</td><td> 0.2989726  </td></tr>\n",
       "\t<tr><td>Austria     </td><td>AUT         </td><td> 0.60828501 </td><td>-0.06182915 </td><td> 0.16104659 </td><td>-0.05541545 </td><td>-0.035363130</td><td> 0.1546281  </td></tr>\n",
       "\t<tr><td>Bangladesh  </td><td>BGD         </td><td> 0.08113671 </td><td>-0.19806775 </td><td> 0.15436757 </td><td> 0.11328817 </td><td> 0.906463265</td><td>-0.1733653  </td></tr>\n",
       "</tbody>\n",
       "</table>\n"
      ],
      "text/latex": [
       "\\begin{tabular}{r|llllllll}\n",
       " country & isocode & patience & risktaking & posrecip & negrecip & altruism & trust\\\\\n",
       "\\hline\n",
       "\t Afghanistan  & AFG          & -0.20136012  &  0.12076426  &  0.28964090  &  0.25471246  &  0.166455463 &  0.3159644  \\\\\n",
       "\t Algeria      & DZA          &  0.05981525  &  0.39153048  & -0.59825534  &  0.25490081  & -0.009968001 & -0.1773706  \\\\\n",
       "\t Argentina    & ARG          & -0.22930798  &  0.04150317  &  0.15967931  & -0.14045727  &  0.027346682 & -0.2067333  \\\\\n",
       "\t Australia    & AUS          &  0.65700376  &  0.13713655  &  0.06966002  &  0.02218975  &  0.155331448 &  0.2989726  \\\\\n",
       "\t Austria      & AUT          &  0.60828501  & -0.06182915  &  0.16104659  & -0.05541545  & -0.035363130 &  0.1546281  \\\\\n",
       "\t Bangladesh   & BGD          &  0.08113671  & -0.19806775  &  0.15436757  &  0.11328817  &  0.906463265 & -0.1733653  \\\\\n",
       "\\end{tabular}\n"
      ],
      "text/markdown": [
       "\n",
       "| country | isocode | patience | risktaking | posrecip | negrecip | altruism | trust |\n",
       "|---|---|---|---|---|---|---|---|\n",
       "| Afghanistan  | AFG          | -0.20136012  |  0.12076426  |  0.28964090  |  0.25471246  |  0.166455463 |  0.3159644   |\n",
       "| Algeria      | DZA          |  0.05981525  |  0.39153048  | -0.59825534  |  0.25490081  | -0.009968001 | -0.1773706   |\n",
       "| Argentina    | ARG          | -0.22930798  |  0.04150317  |  0.15967931  | -0.14045727  |  0.027346682 | -0.2067333   |\n",
       "| Australia    | AUS          |  0.65700376  |  0.13713655  |  0.06966002  |  0.02218975  |  0.155331448 |  0.2989726   |\n",
       "| Austria      | AUT          |  0.60828501  | -0.06182915  |  0.16104659  | -0.05541545  | -0.035363130 |  0.1546281   |\n",
       "| Bangladesh   | BGD          |  0.08113671  | -0.19806775  |  0.15436757  |  0.11328817  |  0.906463265 | -0.1733653   |\n",
       "\n"
      ],
      "text/plain": [
       "  country     isocode patience    risktaking  posrecip    negrecip   \n",
       "1 Afghanistan AFG     -0.20136012  0.12076426  0.28964090  0.25471246\n",
       "2 Algeria     DZA      0.05981525  0.39153048 -0.59825534  0.25490081\n",
       "3 Argentina   ARG     -0.22930798  0.04150317  0.15967931 -0.14045727\n",
       "4 Australia   AUS      0.65700376  0.13713655  0.06966002  0.02218975\n",
       "5 Austria     AUT      0.60828501 -0.06182915  0.16104659 -0.05541545\n",
       "6 Bangladesh  BGD      0.08113671 -0.19806775  0.15436757  0.11328817\n",
       "  altruism     trust     \n",
       "1  0.166455463  0.3159644\n",
       "2 -0.009968001 -0.1773706\n",
       "3  0.027346682 -0.2067333\n",
       "4  0.155331448  0.2989726\n",
       "5 -0.035363130  0.1546281\n",
       "6  0.906463265 -0.1733653"
      ]
     },
     "metadata": {},
     "output_type": "display_data"
    }
   ],
   "source": [
    "head(country_level_GPS_data)"
   ]
  },
  {
   "cell_type": "markdown",
   "metadata": {},
   "source": [
    "The data is an index among a number of preferences by country."
   ]
  },
  {
   "cell_type": "code",
   "execution_count": null,
   "metadata": {},
   "outputs": [],
   "source": [
    "/Users/danemesis/OneDrive/Documents/NYU/Fall 2019 - Econometrics/Project/GPS_Dataset/GPS_dataset_individual_level/individual_v11.dta"
   ]
  }
 ],
 "metadata": {
  "kernelspec": {
   "display_name": "R",
   "language": "R",
   "name": "ir"
  },
  "language_info": {
   "codemirror_mode": "r",
   "file_extension": ".r",
   "mimetype": "text/x-r-source",
   "name": "R",
   "pygments_lexer": "r",
   "version": "3.6.1"
  }
 },
 "nbformat": 4,
 "nbformat_minor": 2
}
